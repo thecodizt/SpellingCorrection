{
 "cells": [
  {
   "cell_type": "code",
   "execution_count": 76,
   "metadata": {},
   "outputs": [],
   "source": [
    "WORDS = '../Data/words_dense.json'\n",
    "ALTERNATES = '../Data/alternates.json'"
   ]
  },
  {
   "cell_type": "code",
   "execution_count": 77,
   "metadata": {},
   "outputs": [],
   "source": [
    "def generate_spelling_alternatives(input_word, word_frequency_dict, letter_alternatives_dict):\n",
    "    if input_word in word_frequency_dict:\n",
    "        # If the input word exists in the word frequency dictionary, no correction needed.\n",
    "        return [input_word]\n",
    "    elif input_word in letter_alternatives_dict:\n",
    "        # If the input word has letter alternatives, generate and return word alternatives.\n",
    "        letter_alternatives = letter_alternatives_dict[input_word]\n",
    "        word_alternatives = generate_word_alternatives(input_word, letter_alternatives)\n",
    "        return word_alternatives\n",
    "    else:\n",
    "        # Generate and rank candidate words as needed.\n",
    "        candidate_words = generate_candidates(input_word, word_frequency_dict)\n",
    "        return candidate_words"
   ]
  },
  {
   "cell_type": "code",
   "execution_count": 78,
   "metadata": {},
   "outputs": [],
   "source": [
    "from itertools import product\n",
    "\n",
    "def generate_word_alternatives(input_word, letter_alternatives):\n",
    "    word_alternatives = set()  # To store the generated word alternatives, using a set to avoid duplicates\n",
    "\n",
    "    # Base case: If the input word is empty, add it to the alternatives.\n",
    "    if not input_word:\n",
    "        word_alternatives.add(input_word)\n",
    "        # return list(word_alternatives)\n",
    "\n",
    "    # Recursive case: Get the first character of the input word.\n",
    "    first_char = input_word[0]\n",
    "\n",
    "    if first_char in letter_alternatives:\n",
    "        # If there are letter alternatives for the first character, consider them.\n",
    "        alt_chars = letter_alternatives[first_char]\n",
    "    else:\n",
    "        # If no letter alternatives, use the original character.\n",
    "        alt_chars = [first_char]\n",
    "\n",
    "    # Recursively generate alternatives for the rest of the input word.\n",
    "    rest_alternatives = generate_word_alternatives(input_word[1:], letter_alternatives)\n",
    "\n",
    "    # Combine the alternative characters with the rest of the alternatives.\n",
    "    for alt_char, rest_alt in product(alt_chars, rest_alternatives):\n",
    "        word_alternatives.add(alt_char + rest_alt)\n",
    "\n",
    "    return list(word_alternatives)"
   ]
  },
  {
   "cell_type": "code",
   "execution_count": 79,
   "metadata": {},
   "outputs": [],
   "source": [
    "def calculate_levenshtein_distance(s1, s2):\n",
    "    if len(s1) < len(s2):\n",
    "        return calculate_levenshtein_distance(s2, s1)\n",
    "\n",
    "    if len(s2) == 0:\n",
    "        return len(s1)\n",
    "\n",
    "    previous_row = range(len(s2) + 1)\n",
    "    for i, c1 in enumerate(s1):\n",
    "        current_row = [i + 1]\n",
    "        for j, c2 in enumerate(s2):\n",
    "            insertions = previous_row[j + 1] + 2  # Higher cost for insertions\n",
    "            deletions = current_row[j] + 2  # Higher cost for deletions\n",
    "            substitutions = previous_row[j] + (c1 != c2)\n",
    "            # Include transpositions (swaps)\n",
    "            if i > 0 and j > 0 and c1 == s2[j - 1] and c2 == s1[i - 1]:\n",
    "                transpositions = previous_row[j - 1] + 1\n",
    "                current_row.append(min(insertions, deletions, substitutions, transpositions))\n",
    "            else:\n",
    "                current_row.append(min(insertions, deletions, substitutions))\n",
    "        previous_row = current_row\n",
    "\n",
    "    return previous_row[-1]"
   ]
  },
  {
   "cell_type": "code",
   "execution_count": 80,
   "metadata": {},
   "outputs": [],
   "source": [
    "def rank_candidates(input_word, word_frequency_dict, max_distance=2, top_n=10):\n",
    "    candidate_words = []\n",
    "\n",
    "    for word in word_frequency_dict:\n",
    "        distance = calculate_levenshtein_distance(input_word, word)\n",
    "        if distance <= max_distance:\n",
    "            candidate_words.append((word, distance))\n",
    "\n",
    "    # Sort candidates by edit distance\n",
    "    candidate_words.sort(key=lambda x: x[1])\n",
    "\n",
    "    # Get the top N candidates\n",
    "    top_candidates = [word for word, _ in candidate_words[:top_n]]\n",
    "\n",
    "    return top_candidates"
   ]
  },
  {
   "cell_type": "code",
   "execution_count": 81,
   "metadata": {},
   "outputs": [],
   "source": [
    "import json\n",
    "\n",
    "# Load the word frequency dictionary from a JSON file\n",
    "with open(WORDS, 'r') as file:\n",
    "    word_frequency_dict = json.load(file)\n",
    "\n",
    "# Load the dictionary of possible letter alternatives from a JSON file\n",
    "with open(ALTERNATES, 'r') as file:\n",
    "    letter_alternatives_dict = json.load(file)"
   ]
  },
  {
   "cell_type": "code",
   "execution_count": 82,
   "metadata": {},
   "outputs": [
    {
     "name": "stdout",
     "output_type": "stream",
     "text": [
      "['rod', 'wood', 'brad', 'bred', 'bro', 'broad', 'brood', 'bros', 'brow', 'cod']\n"
     ]
    }
   ],
   "source": [
    "# Example usage\n",
    "input_word = \"wrod\"  # Example input word\n",
    "\n",
    "alternatives = generate_spelling_alternatives(input_word, word_frequency_dict, letter_alternatives_dict)\n",
    "print(alternatives)"
   ]
  },
  {
   "cell_type": "code",
   "execution_count": null,
   "metadata": {},
   "outputs": [],
   "source": []
  }
 ],
 "metadata": {
  "kernelspec": {
   "display_name": "Python 3",
   "language": "python",
   "name": "python3"
  },
  "language_info": {
   "codemirror_mode": {
    "name": "ipython",
    "version": 3
   },
   "file_extension": ".py",
   "mimetype": "text/x-python",
   "name": "python",
   "nbconvert_exporter": "python",
   "pygments_lexer": "ipython3",
   "version": "3.11.5"
  }
 },
 "nbformat": 4,
 "nbformat_minor": 2
}
