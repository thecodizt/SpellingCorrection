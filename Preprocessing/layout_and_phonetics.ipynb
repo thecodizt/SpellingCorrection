{
 "cells": [
  {
   "cell_type": "code",
   "execution_count": 1,
   "metadata": {},
   "outputs": [],
   "source": [
    "LAYOUT = \"QWERTY\"\n",
    "PHONETIC = \"Soundex\""
   ]
  },
  {
   "cell_type": "code",
   "execution_count": 2,
   "metadata": {},
   "outputs": [],
   "source": [
    "# Read the keyboard layout from a text file\n",
    "keyboard_layout = []\n",
    "with open(f\"../Sources/KeyboardLayout/{LAYOUT}/layout.txt\", \"r\") as layout_file:\n",
    "    for line in layout_file:\n",
    "        keyboard_layout.append(line.strip().split(','))"
   ]
  },
  {
   "cell_type": "code",
   "execution_count": 3,
   "metadata": {},
   "outputs": [
    {
     "data": {
      "text/plain": [
       "[['~', '1', '2', '3', '4', '5', '6', '7', '8', '9', '0', '-', '='],\n",
       " ['Q', 'W', 'E', 'R', 'T', 'Y', 'U', 'I', 'O', 'P', '[', ']', '\\\\'],\n",
       " ['A', 'S', 'D', 'F', 'G', 'H', 'J', 'K', 'L', ';', \"'\"],\n",
       " ['Z', 'X', 'C', 'V', 'B', 'N', 'M', '<', '>', '?', '/']]"
      ]
     },
     "execution_count": 3,
     "metadata": {},
     "output_type": "execute_result"
    }
   ],
   "source": [
    "keyboard_layout"
   ]
  },
  {
   "cell_type": "code",
   "execution_count": 4,
   "metadata": {},
   "outputs": [],
   "source": [
    "# Function to get adjacent keys, including diagonals\n",
    "def get_adjacent_keys(row, col):\n",
    "    adjacent_keys = []\n",
    "    rows = len(keyboard_layout)\n",
    "    cols = len(keyboard_layout[row])\n",
    "    \n",
    "    # Define all possible directions for adjacent keys (including diagonals)\n",
    "    directions = [(0, 1), (0, -1), (1, 0), (-1, 0), (1, 1), (1, -1), (-1, 1), (-1, -1)]\n",
    "    \n",
    "    for dr, dc in directions:\n",
    "        new_row, new_col = row + dr, col + dc\n",
    "        \n",
    "        # Check if the new position is within the bounds of the layout\n",
    "        if 0 <= new_row < rows and 0 <= new_col < len(keyboard_layout[new_row]):\n",
    "            adjacent_keys.append(keyboard_layout[new_row][new_col])\n",
    "    \n",
    "    return adjacent_keys"
   ]
  },
  {
   "cell_type": "code",
   "execution_count": 5,
   "metadata": {},
   "outputs": [
    {
     "name": "stdout",
     "output_type": "stream",
     "text": [
      "~: ['1', 'Q', 'W']\n",
      "1: ['2', '~', 'W', 'E', 'Q']\n",
      "2: ['3', '1', 'E', 'R', 'W']\n",
      "3: ['4', '2', 'R', 'T', 'E']\n",
      "4: ['5', '3', 'T', 'Y', 'R']\n",
      "5: ['6', '4', 'Y', 'U', 'T']\n",
      "6: ['7', '5', 'U', 'I', 'Y']\n",
      "7: ['8', '6', 'I', 'O', 'U']\n",
      "8: ['9', '7', 'O', 'P', 'I']\n",
      "9: ['0', '8', 'P', '[', 'O']\n",
      "0: ['-', '9', '[', ']', 'P']\n",
      "-: ['=', '0', ']', '\\\\', '[']\n",
      "=: ['-', '\\\\', ']']\n",
      "Q: ['W', 'A', '~', 'S', '1']\n",
      "W: ['E', 'Q', 'S', '1', 'D', 'A', '2', '~']\n",
      "E: ['R', 'W', 'D', '2', 'F', 'S', '3', '1']\n",
      "R: ['T', 'E', 'F', '3', 'G', 'D', '4', '2']\n",
      "T: ['Y', 'R', 'G', '4', 'H', 'F', '5', '3']\n",
      "Y: ['U', 'T', 'H', '5', 'J', 'G', '6', '4']\n",
      "U: ['I', 'Y', 'J', '6', 'K', 'H', '7', '5']\n",
      "I: ['O', 'U', 'K', '7', 'L', 'J', '8', '6']\n",
      "O: ['P', 'I', 'L', '8', ';', 'K', '9', '7']\n",
      "P: ['[', 'O', ';', '9', \"'\", 'L', '0', '8']\n",
      "[: [']', 'P', \"'\", '0', ';', '-', '9']\n",
      "]: ['\\\\', '[', '-', \"'\", '=', '0']\n",
      "\\: [']', '=', '-']\n",
      "A: ['S', 'Z', 'Q', 'X', 'W']\n",
      "S: ['D', 'A', 'X', 'W', 'C', 'Z', 'E', 'Q']\n",
      "D: ['F', 'S', 'C', 'E', 'V', 'X', 'R', 'W']\n",
      "F: ['G', 'D', 'V', 'R', 'B', 'C', 'T', 'E']\n",
      "G: ['H', 'F', 'B', 'T', 'N', 'V', 'Y', 'R']\n",
      "H: ['J', 'G', 'N', 'Y', 'M', 'B', 'U', 'T']\n",
      "J: ['K', 'H', 'M', 'U', '<', 'N', 'I', 'Y']\n",
      "K: ['L', 'J', '<', 'I', '>', 'M', 'O', 'U']\n",
      "L: [';', 'K', '>', 'O', '?', '<', 'P', 'I']\n",
      ";: [\"'\", 'L', '?', 'P', '/', '>', '[', 'O']\n",
      "': [';', '/', '[', '?', ']', 'P']\n",
      "Z: ['X', 'A', 'S']\n",
      "X: ['C', 'Z', 'S', 'D', 'A']\n",
      "C: ['V', 'X', 'D', 'F', 'S']\n",
      "V: ['B', 'C', 'F', 'G', 'D']\n",
      "B: ['N', 'V', 'G', 'H', 'F']\n",
      "N: ['M', 'B', 'H', 'J', 'G']\n",
      "M: ['<', 'N', 'J', 'K', 'H']\n",
      "<: ['>', 'M', 'K', 'L', 'J']\n",
      ">: ['?', '<', 'L', ';', 'K']\n",
      "?: ['/', '>', ';', \"'\", 'L']\n",
      "/: ['?', \"'\", ';']\n"
     ]
    }
   ],
   "source": [
    "# Create the dictionary with adjacent keys, including diagonals\n",
    "keyboard_dict = {}\n",
    "for row in range(len(keyboard_layout)):\n",
    "    for col in range(len(keyboard_layout[row])):\n",
    "        key = keyboard_layout[row][col]\n",
    "        adjacent_keys = get_adjacent_keys(row, col)\n",
    "        keyboard_dict[key] = adjacent_keys\n",
    "\n",
    "# Print the dictionary\n",
    "for key, adjacent_keys in keyboard_dict.items():\n",
    "    print(f\"{key}: {adjacent_keys}\")"
   ]
  },
  {
   "cell_type": "code",
   "execution_count": 6,
   "metadata": {},
   "outputs": [],
   "source": [
    "# Read the phonetic groups from a text file and strip whitespace\n",
    "phonetic_groups = []\n",
    "with open(f\"../Sources/Phonetics/{PHONETIC}/phonetic.txt\", \"r\") as phonetic_file:\n",
    "    for line in phonetic_file:\n",
    "        group_alternatives = [letter.strip() for letter in line.strip().split(',')]\n",
    "        phonetic_groups.append(group_alternatives)"
   ]
  },
  {
   "cell_type": "code",
   "execution_count": 7,
   "metadata": {},
   "outputs": [
    {
     "data": {
      "text/plain": [
       "[['A', 'E', 'I', 'O', 'U', 'H', 'W', 'Y'],\n",
       " ['B', 'F', 'P', 'V'],\n",
       " ['C', 'G', 'J', 'K', 'Q', 'S', 'X', 'Z'],\n",
       " ['D', 'T'],\n",
       " ['L'],\n",
       " ['M', 'N'],\n",
       " ['R']]"
      ]
     },
     "execution_count": 7,
     "metadata": {},
     "output_type": "execute_result"
    }
   ],
   "source": [
    "phonetic_groups"
   ]
  },
  {
   "cell_type": "code",
   "execution_count": 8,
   "metadata": {},
   "outputs": [],
   "source": [
    "# Update keyboard_dict with phonetic alternatives without duplicates and without the key itself\n",
    "for group in phonetic_groups:\n",
    "    for alternative in group:\n",
    "        if alternative in keyboard_dict:\n",
    "            for letter in group:\n",
    "                if letter != alternative and letter not in keyboard_dict[alternative]:\n",
    "                    keyboard_dict[alternative].append(letter)\n",
    "        else:\n",
    "            keyboard_dict[alternative] = group"
   ]
  },
  {
   "cell_type": "code",
   "execution_count": 9,
   "metadata": {},
   "outputs": [
    {
     "data": {
      "text/plain": [
       "{'~': ['1', 'Q', 'W'],\n",
       " '1': ['2', '~', 'W', 'E', 'Q'],\n",
       " '2': ['3', '1', 'E', 'R', 'W'],\n",
       " '3': ['4', '2', 'R', 'T', 'E'],\n",
       " '4': ['5', '3', 'T', 'Y', 'R'],\n",
       " '5': ['6', '4', 'Y', 'U', 'T'],\n",
       " '6': ['7', '5', 'U', 'I', 'Y'],\n",
       " '7': ['8', '6', 'I', 'O', 'U'],\n",
       " '8': ['9', '7', 'O', 'P', 'I'],\n",
       " '9': ['0', '8', 'P', '[', 'O'],\n",
       " '0': ['-', '9', '[', ']', 'P'],\n",
       " '-': ['=', '0', ']', '\\\\', '['],\n",
       " '=': ['-', '\\\\', ']'],\n",
       " 'Q': ['W', 'A', '~', 'S', '1', 'C', 'G', 'J', 'K', 'X', 'Z'],\n",
       " 'W': ['E', 'Q', 'S', '1', 'D', 'A', '2', '~', 'I', 'O', 'U', 'H', 'Y'],\n",
       " 'E': ['R', 'W', 'D', '2', 'F', 'S', '3', '1', 'A', 'I', 'O', 'U', 'H', 'Y'],\n",
       " 'R': ['T', 'E', 'F', '3', 'G', 'D', '4', '2'],\n",
       " 'T': ['Y', 'R', 'G', '4', 'H', 'F', '5', '3', 'D'],\n",
       " 'Y': ['U', 'T', 'H', '5', 'J', 'G', '6', '4', 'A', 'E', 'I', 'O', 'W'],\n",
       " 'U': ['I', 'Y', 'J', '6', 'K', 'H', '7', '5', 'A', 'E', 'O', 'W'],\n",
       " 'I': ['O', 'U', 'K', '7', 'L', 'J', '8', '6', 'A', 'E', 'H', 'W', 'Y'],\n",
       " 'O': ['P', 'I', 'L', '8', ';', 'K', '9', '7', 'A', 'E', 'U', 'H', 'W', 'Y'],\n",
       " 'P': ['[', 'O', ';', '9', \"'\", 'L', '0', '8', 'B', 'F', 'V'],\n",
       " '[': [']', 'P', \"'\", '0', ';', '-', '9'],\n",
       " ']': ['\\\\', '[', '-', \"'\", '=', '0'],\n",
       " '\\\\': [']', '=', '-'],\n",
       " 'A': ['S', 'Z', 'Q', 'X', 'W', 'E', 'I', 'O', 'U', 'H', 'Y'],\n",
       " 'S': ['D', 'A', 'X', 'W', 'C', 'Z', 'E', 'Q', 'G', 'J', 'K'],\n",
       " 'D': ['F', 'S', 'C', 'E', 'V', 'X', 'R', 'W', 'T'],\n",
       " 'F': ['G', 'D', 'V', 'R', 'B', 'C', 'T', 'E', 'P'],\n",
       " 'G': ['H',\n",
       "  'F',\n",
       "  'B',\n",
       "  'T',\n",
       "  'N',\n",
       "  'V',\n",
       "  'Y',\n",
       "  'R',\n",
       "  'C',\n",
       "  'J',\n",
       "  'K',\n",
       "  'Q',\n",
       "  'S',\n",
       "  'X',\n",
       "  'Z'],\n",
       " 'H': ['J', 'G', 'N', 'Y', 'M', 'B', 'U', 'T', 'A', 'E', 'I', 'O', 'W'],\n",
       " 'J': ['K', 'H', 'M', 'U', '<', 'N', 'I', 'Y', 'C', 'G', 'Q', 'S', 'X', 'Z'],\n",
       " 'K': ['L', 'J', '<', 'I', '>', 'M', 'O', 'U', 'C', 'G', 'Q', 'S', 'X', 'Z'],\n",
       " 'L': [';', 'K', '>', 'O', '?', '<', 'P', 'I'],\n",
       " ';': [\"'\", 'L', '?', 'P', '/', '>', '[', 'O'],\n",
       " \"'\": [';', '/', '[', '?', ']', 'P'],\n",
       " 'Z': ['X', 'A', 'S', 'C', 'G', 'J', 'K', 'Q'],\n",
       " 'X': ['C', 'Z', 'S', 'D', 'A', 'G', 'J', 'K', 'Q'],\n",
       " 'C': ['V', 'X', 'D', 'F', 'S', 'G', 'J', 'K', 'Q', 'Z'],\n",
       " 'V': ['B', 'C', 'F', 'G', 'D', 'P'],\n",
       " 'B': ['N', 'V', 'G', 'H', 'F', 'P'],\n",
       " 'N': ['M', 'B', 'H', 'J', 'G'],\n",
       " 'M': ['<', 'N', 'J', 'K', 'H'],\n",
       " '<': ['>', 'M', 'K', 'L', 'J'],\n",
       " '>': ['?', '<', 'L', ';', 'K'],\n",
       " '?': ['/', '>', ';', \"'\", 'L'],\n",
       " '/': ['?', \"'\", ';']}"
      ]
     },
     "execution_count": 9,
     "metadata": {},
     "output_type": "execute_result"
    }
   ],
   "source": [
    "keyboard_dict"
   ]
  },
  {
   "cell_type": "code",
   "execution_count": 10,
   "metadata": {},
   "outputs": [],
   "source": [
    "import json\n",
    "\n",
    "# Open a JSON file for writing\n",
    "with open(f'../Data/alternates.json', 'w') as f:\n",
    "    # Use json.dump to write the dictionary to the file\n",
    "    json.dump(keyboard_dict, f)"
   ]
  },
  {
   "cell_type": "code",
   "execution_count": null,
   "metadata": {},
   "outputs": [],
   "source": []
  }
 ],
 "metadata": {
  "kernelspec": {
   "display_name": "Python 3",
   "language": "python",
   "name": "python3"
  },
  "language_info": {
   "codemirror_mode": {
    "name": "ipython",
    "version": 3
   },
   "file_extension": ".py",
   "mimetype": "text/x-python",
   "name": "python",
   "nbconvert_exporter": "python",
   "pygments_lexer": "ipython3",
   "version": "3.11.5"
  }
 },
 "nbformat": 4,
 "nbformat_minor": 2
}
